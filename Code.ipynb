{
 "cells": [
  {
   "cell_type": "markdown",
   "metadata": {},
   "source": [
    "# Test-Ponicode type prediction"
   ]
  },
  {
   "cell_type": "markdown",
   "metadata": {},
   "source": [
    "## Imports and pre-requirements"
   ]
  },
  {
   "cell_type": "code",
   "execution_count": 1,
   "metadata": {},
   "outputs": [],
   "source": [
    "import pickle\n",
    "import numpy as np\n",
    "import pandas as pd\n",
    "import re\n",
    "import torch\n",
    "import torch.nn as nn\n",
    "import torch.nn.functional as F\n",
    "import torch.optim as optim\n",
    "import itertools\n",
    "import seaborn as sns\n",
    "import matplotlib.pyplot as plt\n",
    "from sklearn.metrics import confusion_matrix\n",
    "from sklearn.model_selection import train_test_split"
   ]
  },
  {
   "cell_type": "markdown",
   "metadata": {},
   "source": [
    "## Data-Visualisation and plan"
   ]
  },
  {
   "cell_type": "raw",
   "metadata": {},
   "source": [
    "Preprocess of datas -> unpickle the file containing all datas\n",
    "                    -> Data visualisation\n",
    "                    -> Best way to representent the datas ?\n",
    "                        -> Using embeddings is the best way since TFIDF doesn't bring anything interesting, one-hot\n",
    "                           encoding either. The idea is to look for the surrounded text since different functions/ \n",
    "                           words apply differently depending on the type of the parameter, so parameters with the \n",
    "                           same type are more likely to appear near the same type of function, word, procedures etc...\n",
    "                        -> representation of each parameter by it's words embedding from all the vocabulary found \n",
    "                           using pytorch.nn.embeddings\n",
    "                    -> Best model for supervised classification ?\n",
    "                    -> Multilabel classification ? No, because each parameter has only one type\n",
    "                    -> Multiclass classification ? Yes, associate one type to one parameter\n",
    "                        -> Since we are dealing with words embedding we can use neural networks for prediction\n",
    "                        -> LSTM for text classificiation to deal with suffer from vanishing and exploding gradient \n",
    "                           from regular RNN\n",
    "                    -> Training, Testing, Evaluate"
   ]
  },
  {
   "cell_type": "code",
   "execution_count": 2,
   "metadata": {},
   "outputs": [],
   "source": [
    "#Data visualisation (unpickle file)\n",
    "with open('anulap.pkl', 'rb') as f:\n",
    "    my_depickler = pickle.Unpickler(f)\n",
    "    datas = my_depickler.load()\n",
    "#print(datas)\n",
    "\n",
    "#Check the type of data for each column of the DataFrame\n",
    "# df = pd.DataFrame(datas, columns= ['function', 'types','project'])\n",
    "# row = df.values.tolist()\n",
    "# for item in row:\n",
    "# \tprint(item)\n",
    "# \tprint()\n",
    "# \tinput()\n",
    "\n"
   ]
  },
  {
   "cell_type": "markdown",
   "metadata": {},
   "source": [
    "## Pre-Processing the datas"
   ]
  },
  {
   "cell_type": "code",
   "execution_count": 3,
   "metadata": {},
   "outputs": [
    {
     "name": "stdout",
     "output_type": "stream",
     "text": [
      "{'array': 0, 'string': 1, 'function': 2, 'boolean': 3, 'object': 4, 'number': 5}\n"
     ]
    }
   ],
   "source": [
    "def pre_process(datas):\n",
    "    #Get the vocabulary and the parameter to match to each type (usage of set to not have the same word twice)\n",
    "    vocabulary = set()\n",
    "    words_to_predict = []\n",
    "    X_set = []\n",
    "    voc = datas['function'].tolist()\n",
    "    #Parse the functions one by one\n",
    "    for function in voc :\n",
    "        #Get the parameters of the functions in a list\n",
    "        splited_function = function.split(\"\\n\")\n",
    "        parameter_of_actual_function = []\n",
    "        start,end = 0,0\n",
    "        #Obtain the parameters which are contained in the parenthesis of the function name\n",
    "        for character in splited_function[0]:\n",
    "            if character == \"(\":\n",
    "                start = splited_function[0].find('(')\n",
    "            if character == \")\":\n",
    "                end = splited_function[0].find(')')\n",
    "            if start != 0 and end != 0:\n",
    "                #cleans out the comments in the parameters (/* */) and the auto assign type\n",
    "                parameters = splited_function[0][start+1:end]\n",
    "                cleaned_param = re.sub(r'/.+?/', '', parameters)\n",
    "                cleaned_param_2 = cleaned_param.split(\":\")\n",
    "                cleaned_param_2 = str(cleaned_param_2[0])\n",
    "                parameter_of_actual_function.append(cleaned_param_2)\n",
    "                break\n",
    "        #Get the parameters of the actual function into a string type and add it to the final list\n",
    "        joined =\"\".join(parameter_of_actual_function).replace(\" \",\"\").split(\",\")\n",
    "        words_to_predict.extend(joined)\n",
    "\n",
    "        #Get the totality of the vocabulary to help with the construction of the word embeddings\n",
    "        splited_function_2 = re.split(r'[.\\s(),]\\s*', function)\n",
    "        X_set.append(splited_function_2)\n",
    "        for element in splited_function_2:\n",
    "            vocabulary.add(element)\n",
    "\n",
    "    # print(words_to_predict)\n",
    "    # print(X_set)\n",
    "\n",
    "    #Get the gold values from the type column of the dataframe\n",
    "    Y_set = []\n",
    "    types = datas['types'].tolist()\n",
    "    for set_type in types:\n",
    "        Y_types = set_type.split(\",\")\n",
    "        for one_elem in Y_types:\n",
    "            Y_set.append(one_elem)\n",
    "            \n",
    "    #Assign each parameter to it's gold type (for debug purpose to see if each parameter has it's own type)\n",
    "    # gold_values = zip(words_to_predict,Y_set)\n",
    "    # for one_gold in gold_values:\n",
    "    # \tprint(one_gold)\n",
    "    # \tinput()\n",
    "\n",
    "    #Turn the current vocabulary to it's w2idx so that each parameter has it's own index\n",
    "    word2idx = {word: ind for ind, word in enumerate(vocabulary)}\n",
    "\n",
    "    #Get all the existing labels into a set and assign one index to each label\n",
    "    labels = []\n",
    "    for items in types:\n",
    "        all_type = [item for item in items.split(',')]\n",
    "        for final_type in all_type:\n",
    "            labels.append(final_type)\n",
    "    labels = set(labels)\n",
    "    labels2idx = {label: ind for ind, label in enumerate(labels)}\n",
    "    print(labels2idx)\n",
    "\n",
    "    #Encode every parameter with it associated index in the vocabulary\n",
    "    X_encoded_set = []\n",
    "    for function in words_to_predict:\n",
    "        encoded_function = [word2idx[function]]\n",
    "        X_encoded_set.append(encoded_function)\n",
    "\n",
    "    #Encode every gold target to it's associated index\n",
    "    Y_encoded_set = []\n",
    "    for types in Y_set:\n",
    "        encoded_type = [labels2idx[types]]\n",
    "        Y_encoded_set.append(encoded_type)\n",
    "\n",
    "    return X_encoded_set , Y_encoded_set, labels2idx, word2idx, labels, vocabulary\n",
    "        \n",
    "#Reconstruct the datas with the encoded X and Y to realise a train and test set \n",
    "#(If more time split into train - test - dev) for more accurate training\n",
    "X_encoded_set , Y_encoded_set, labels2idx, word2idx, labels, vocabulary = pre_process(datas)\n",
    "reconstructed_encod_datas = list(zip(X_encoded_set,Y_encoded_set))\n",
    "train, test = train_test_split(reconstructed_encod_datas, random_state=42, test_size=0.20, shuffle=True)"
   ]
  },
  {
   "cell_type": "markdown",
   "metadata": {},
   "source": [
    "## Application of the model"
   ]
  },
  {
   "cell_type": "code",
   "execution_count": 4,
   "metadata": {},
   "outputs": [
    {
     "name": "stdout",
     "output_type": "stream",
     "text": [
      "Epoch: 0 train_loss: 1.558499941822715 accuracy: 0.3248512888301388\n",
      "Epoch: 1 train_loss: 1.3679984154454226 accuracy: 0.4170522141440846\n",
      "Epoch: 2 train_loss: 1.2588832831910153 accuracy: 0.5196629213483146\n",
      "Epoch: 3 train_loss: 1.1608808289219854 accuracy: 0.576668869795109\n",
      "Epoch: 4 train_loss: 1.0791979171027923 accuracy: 0.6052544613350959\n",
      "Epoch: 5 train_loss: 1.011882694518121 accuracy: 0.635822868473232\n",
      "Epoch: 6 train_loss: 0.9531571426452246 accuracy: 0.6566424322538004\n",
      "Epoch: 7 train_loss: 0.9102312723132834 accuracy: 0.6754791804362195\n",
      "Epoch: 8 train_loss: 0.872774643023909 accuracy: 0.6906807666886979\n",
      "Epoch: 9 train_loss: 0.8303484339317798 accuracy: 0.7085261070720423\n",
      "Epoch: 10 train_loss: 0.8052465478098358 accuracy: 0.7186054196959683\n",
      "Epoch: 11 train_loss: 0.7644034122207349 accuracy: 0.7352941176470589\n",
      "Epoch: 12 train_loss: 0.7425686194514025 accuracy: 0.7475214805023133\n",
      "Epoch: 13 train_loss: 0.712689652523458 accuracy: 0.7594183740912095\n",
      "Epoch: 14 train_loss: 0.6956644509652764 accuracy: 0.7681758096497026\n",
      "Epoch: 15 train_loss: 0.679358045480067 accuracy: 0.7728023793787178\n",
      "Epoch: 16 train_loss: 0.6470364964875206 accuracy: 0.7871777924653007\n",
      "Epoch: 17 train_loss: 0.6368327241243827 accuracy: 0.7908129543952412\n",
      "Epoch: 18 train_loss: 0.6055881850611017 accuracy: 0.8015532055518837\n",
      "Epoch: 19 train_loss: 0.5995554462975009 accuracy: 0.7985789821546596\n",
      "Epoch: 20 train_loss: 0.5938957683747125 accuracy: 0.8081625908790483\n",
      "Epoch: 21 train_loss: 0.5812413901967315 accuracy: 0.8106411103767349\n",
      "Epoch: 22 train_loss: 0.5677880010838754 accuracy: 0.8195637805684072\n",
      "Epoch: 23 train_loss: 0.5456095066046809 accuracy: 0.8260079312623926\n",
      "Epoch: 24 train_loss: 0.547525207095817 accuracy: 0.8223727693324521\n",
      "Epoch: 25 train_loss: 0.5399698433857127 accuracy: 0.8299735624586914\n",
      "Epoch: 26 train_loss: 0.5241528930242086 accuracy: 0.8326173165895572\n",
      "Epoch: 27 train_loss: 0.5187057676851738 accuracy: 0.8369134170522141\n",
      "Epoch: 28 train_loss: 0.5187330163499927 accuracy: 0.8374091209517515\n",
      "Epoch: 29 train_loss: 0.5046797446006791 accuracy: 0.8436880370125578\n"
     ]
    }
   ],
   "source": [
    "#LSTM model with embedding layer and one linear layer for output\n",
    "class LSTM(torch.nn.Module) :\n",
    "    \"\"\"\n",
    "    Neural Network of type LSTM to predict the type of parameter of a function\n",
    "    \"\"\"\n",
    "    def __init__(self, vocab_size, embedding_dim, hidden_dim) :\n",
    "        super().__init__()\n",
    "        self.hidden_dim    = hidden_dim\n",
    "        self.embedding_dim = embedding_dim\n",
    "\n",
    "        #declare layers of the models\n",
    "        self.embeddings = nn.Embedding(vocab_size, embedding_dim, padding_idx=0)\n",
    "        self.lstm = nn.LSTM(embedding_dim, hidden_dim, bidirectional=False)\n",
    "        self.out = nn.Linear(hidden_dim, len(labels2idx))\n",
    "        self.dropout = nn.Dropout(0.2)\n",
    "        \n",
    "        self.min_loss = 99999999\n",
    "        self.B_model = None\n",
    "        \n",
    "    def forward(self, X):\n",
    "        \"\"\"\n",
    "        Apply forward to the data\n",
    "        :param X: index representation of a word\n",
    "        :type X: list\n",
    "        \"\"\"\n",
    "        #apply forward to the inputs and get the prediction as a list of probabilities\n",
    "        emb_datas = torch.LongTensor(X)\n",
    "        embedded = self.embeddings(emb_datas)\n",
    "        embedded = self.dropout(embedded)\n",
    "        lstm_out, (hidden, cell) = self.lstm(embedded.unsqueeze(0))\n",
    "        return self.out(hidden)\n",
    "\n",
    "    def train(self,train,epochs,lr=0.001):\n",
    "        \"\"\"\n",
    "        Train the model\n",
    "        :param train: list of parameters and gold\n",
    "        :type train: list\n",
    "        \n",
    "        :param epochs: number of epochs to train the model\n",
    "        :type epochs: int\n",
    "        \n",
    "        :param lr: learning rate of the optimize\n",
    "        :lr: float\n",
    "        \"\"\"\n",
    "        #use loader so both of X and Y are tensors\n",
    "        train_loader = torch.utils.data.DataLoader(train, batch_size=1, shuffle =True)\n",
    "        \n",
    "        #CrossEntropyLoss is the most used for multiclass prediction and combine softmax and NLLLoss\n",
    "        loss_func  = nn.CrossEntropyLoss() \n",
    "        optimizer  = optim.Adam(self.parameters(), lr=lr)\n",
    "        #For shallow networks but is much slower \n",
    "        #optimizer  = optim.SGD(self.parameters(), lr=0.01)\n",
    "        \n",
    "        for e in range(epochs):\n",
    "            train_loss = 0.0\n",
    "            correct = 0\n",
    "            for x_train,y_train in train_loader:\n",
    "                self.zero_grad()\n",
    "                prob_train      = self.forward(x_train)\n",
    "                predicted       = torch.argmax(prob_train)\n",
    "                loss            = loss_func(prob_train.squeeze(0),y_train[0])\n",
    "                loss.backward()\n",
    "                optimizer.step()\n",
    "                train_loss += loss.item()\n",
    "                if (predicted == y_train[0]):\n",
    "                    correct += 1 \n",
    "                    \n",
    "            print(\"Epoch:\", e, \"train_loss:\" , train_loss/len(train), \"accuracy:\" , correct/len(train))\n",
    "\n",
    "            #compare loss of all epochs and take the best model\n",
    "            if train_loss < self.min_loss : \n",
    "                    self.min_loss = train_loss\n",
    "                    self.B_model = self.state_dict()\n",
    "                    \n",
    "    def predict(self,test):\n",
    "        \"\"\"\n",
    "        Apply model to the test set\n",
    "        :param test: list of parameters and gold\n",
    "        :type test: list\n",
    "        \"\"\"\n",
    "        \n",
    "        test_loader = torch.utils.data.DataLoader(test, batch_size=1, shuffle =True)\n",
    "        correct = 0\n",
    "        predictions = []\n",
    "        y_true = []\n",
    "        for x_test,y_test in test_loader:\n",
    "            prob_test = self.forward(x_test)\n",
    "            predicted = torch.argmax(prob_test)\n",
    "            if (predicted == y_test[0]):\n",
    "                correct += 1\n",
    "            predictions.append(int(predicted))\n",
    "            y_true.append(int(y_test[0]))\n",
    "                    \n",
    "        print(\"Accuracy_test:\", correct/len(test))\n",
    "        return predictions, y_true\n",
    "\n",
    "            \n",
    "            \n",
    "vocab_size = len(vocabulary)\n",
    "emb_dim = 5\n",
    "hidden_dim = 5\n",
    "lstm = LSTM(vocab_size,emb_dim,hidden_dim)\n",
    "lstm.train(train,30)\n",
    "#saving the best model in the folder\n",
    "torch.save(lstm.B_model, \"BestModel\")"
   ]
  },
  {
   "cell_type": "markdown",
   "metadata": {},
   "source": [
    "## Matrix representation of test"
   ]
  },
  {
   "cell_type": "code",
   "execution_count": 5,
   "metadata": {},
   "outputs": [
    {
     "name": "stdout",
     "output_type": "stream",
     "text": [
      "Accuracy_test: 0.7587574355584931\n"
     ]
    },
    {
     "data": {
      "image/png": "[encoded data removed]",
      "text/plain": [
       "<Figure size 576x576 with 2 Axes>"
      ]
     },
     "metadata": {
      "needs_background": "light"
     },
     "output_type": "display_data"
    }
   ],
   "source": [
    "#Load the model to apply to the test set\n",
    "lstm.load_state_dict(torch.load(\"BestModel\"))\n",
    "predictions,y_true = lstm.predict(test)\n",
    "cfs_m = confusion_matrix(y_true,predictions)\n",
    "fig, ax = plt.subplots(figsize=(8,8))\n",
    "sns.heatmap(cfs_m, annot=True, fmt='d',\n",
    "            xticklabels=labels, yticklabels=labels)\n",
    "plt.ylabel('Actual')\n",
    "plt.xlabel('Predicted')\n",
    "plt.show()"
   ]
  },
  {
   "cell_type": "markdown",
   "metadata": {},
   "source": [
    "## Ideas of improvements and comments"
   ]
  },
  {
   "cell_type": "raw",
   "metadata": {},
   "source": [
    "-> Using GridSearchCv to search for the best hyperparameters (learning rate, optimizer, epochs), we can see that the model is still learning after 30 epochs.\n",
    "-> Apply another model of neual networks to search for the best type of model\n",
    "-> Process the learn step with a dev set to ensure that the model is not over-fitting\n",
    "-> Add more layers to the models to see if it does change, or change the size of them\n",
    "-> Add the function number directly to the word-embedding (Adding the raw information to every word embedding could improve learning) : meaning adding a new feature to the embedding or found other features that could help improve\n",
    "-> Use batches in case of more datas were to compute\n",
    "-> Clean more the vocabulary so that the comments of the functions are not included in the vocabulary (they add noise)\n",
    "-> Resample the lowest quantity of type so that the model could learn more about the others type since we can see in the matrix that the type boolean is less present than the type string"
   ]
  }
 ],
 "metadata": {
  "kernelspec": {
   "display_name": "Python 3",
   "language": "python",
   "name": "python3"
  },
  "language_info": {
   "codemirror_mode": {
    "name": "ipython",
    "version": 3
   },
   "file_extension": ".py",
   "mimetype": "text/x-python",
   "name": "python",
   "nbconvert_exporter": "python",
   "pygments_lexer": "ipython3",
   "version": "3.7.3"
  }
 },
 "nbformat": 4,
 "nbformat_minor": 4
}
